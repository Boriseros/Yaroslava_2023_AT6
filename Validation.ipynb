{
 "cells": [
  {
   "cell_type": "code",
   "execution_count": 1,
   "id": "e9cf9836",
   "metadata": {},
   "outputs": [
    {
     "name": "stdout",
     "output_type": "stream",
     "text": [
      "Precondition ok\n",
      "[15, 40, 3]\n",
      "Controll: All elements are positive integers\n",
      "Controll: The length of the list correct\n"
     ]
    }
   ],
   "source": [
    "class Validation:\n",
    "    def __init__(self):\n",
    "        self.positive_integers = []\n",
    "\n",
    "\n",
    "    def validate(self, string_list):\n",
    "\n",
    "        if isinstance(string_list, list) and all(isinstance(i, str) for i in string_list):\n",
    "            print(\"Precondition ok\")\n",
    "        else:\n",
    "            raise ValueError(\"Data must be a list with strings\")\n",
    "            \n",
    "            \n",
    "        controll_length = sum(1 for i in string_list if i.isdigit() and int(i) > 0)    \n",
    "            \n",
    "\n",
    "        for i in string_list:\n",
    "            try:\n",
    "                number = int(i)\n",
    "                if number > 0:  \n",
    "                    self.positive_integers.append(number)\n",
    "            except ValueError:\n",
    "                pass\n",
    "        print(self.positive_integers)\n",
    "\n",
    "\n",
    "        if all(isinstance(i, int) and i > 0 for i in self.positive_integers):\n",
    "            print(\"Controll: All elements are positive integers\")\n",
    "        else:\n",
    "            print(\"Controll: Not all elements are positive integers\")\n",
    "\n",
    "        if len(self.positive_integers) == controll_length:\n",
    "            print(\"Controll: The length of the list correct\")\n",
    "        else:\n",
    "            print(\"Controll: The length of the list is not correct\")\n",
    "\n",
    "        \n",
    "\n",
    "\n",
    "data = Validation()\n",
    "data.validate([\"-6\", \"15\", \"A\", \"B\", \"40\", \"-30\", \"3\"])\n"
   ]
  },
  {
   "cell_type": "code",
   "execution_count": null,
   "id": "5a5667f3",
   "metadata": {},
   "outputs": [],
   "source": []
  },
  {
   "cell_type": "code",
   "execution_count": null,
   "id": "cd583f52",
   "metadata": {},
   "outputs": [],
   "source": []
  },
  {
   "cell_type": "code",
   "execution_count": null,
   "id": "af0f3d92",
   "metadata": {},
   "outputs": [],
   "source": []
  }
 ],
 "metadata": {
  "kernelspec": {
   "display_name": "Python 3 (ipykernel)",
   "language": "python",
   "name": "python3"
  },
  "language_info": {
   "codemirror_mode": {
    "name": "ipython",
    "version": 3
   },
   "file_extension": ".py",
   "mimetype": "text/x-python",
   "name": "python",
   "nbconvert_exporter": "python",
   "pygments_lexer": "ipython3",
   "version": "3.11.4"
  }
 },
 "nbformat": 4,
 "nbformat_minor": 5
}
